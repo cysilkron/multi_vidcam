{
 "cells": [
  {
   "cell_type": "markdown",
   "metadata": {},
   "source": [
    "This notebook aim to create an `actual` timeline,\n",
    "so that frames from two video file can refer to created the timeline\n",
    "to find the real index between frames"
   ]
  },
  {
   "cell_type": "code",
   "execution_count": 1,
   "metadata": {},
   "outputs": [],
   "source": [
    "import pandas as pd\n",
    "import numpy as np\n",
    "from IPython.display import display\n",
    "import datetime"
   ]
  },
  {
   "cell_type": "code",
   "execution_count": 2,
   "metadata": {},
   "outputs": [
    {
     "name": "stderr",
     "output_type": "stream",
     "text": [
      "<ipython-input-2-99f9a718bc21>:1: ParserWarning: Falling back to the 'python' engine because the 'c' engine does not support regex separators (separators > 1 char and different from '\\s+' are interpreted as regex); you can avoid this warning by specifying engine='python'.\n",
      "  df_t1 = pd.read_csv('csv/timestamp0.csv', delimiter=', ')\n",
      "<ipython-input-2-99f9a718bc21>:2: ParserWarning: Falling back to the 'python' engine because the 'c' engine does not support regex separators (separators > 1 char and different from '\\s+' are interpreted as regex); you can avoid this warning by specifying engine='python'.\n",
      "  df_t2 = pd.read_csv('csv/timestamp1.csv', delimiter=', ')\n"
     ]
    }
   ],
   "source": [
    "df_t1 = pd.read_csv('csv/timestamp0.csv', delimiter=', ')\n",
    "df_t2 = pd.read_csv('csv/timestamp1.csv', delimiter=', ')"
   ]
  },
  {
   "cell_type": "markdown",
   "metadata": {},
   "source": [
    "# utils"
   ]
  },
  {
   "cell_type": "code",
   "execution_count": 3,
   "metadata": {},
   "outputs": [],
   "source": [
    "from IPython.display import display_html\n",
    "\n",
    "def df_display_beside(dfs, names=[]):\n",
    "    html_str = ''\n",
    "    if names:\n",
    "        html_str += ('<tr>' + \n",
    "                     ''.join(f'<td style=\"text-align:center\">{name}</td>' for name in names) + \n",
    "                     '</tr>')\n",
    "    html_str += ('<tr>' + \n",
    "                 ''.join(f'<td style=\"vertical-align:top\"> {df.to_html(index=False)}</td>' \n",
    "                         for df in dfs) + \n",
    "                 '</tr>')\n",
    "    html_str = f'<table>{html_str}</table>'\n",
    "    html_str = html_str.replace('table','table style=\"display:inline\"')\n",
    "    display_html(html_str, raw=True)"
   ]
  },
  {
   "cell_type": "markdown",
   "metadata": {},
   "source": [
    "# preview"
   ]
  },
  {
   "cell_type": "code",
   "execution_count": 4,
   "metadata": {},
   "outputs": [
    {
     "data": {
      "text/html": [
       "<table style=\"display:inline\"><tr><td style=\"vertical-align:top\"> <table style=\"display:inline\" border=\"1\" class=\"dataframe\">\n",
       "  <thead>\n",
       "    <tr style=\"text-align: right;\">\n",
       "      <th>Frame Number</th>\n",
       "      <th>Date</th>\n",
       "      <th>Timestamp</th>\n",
       "    </tr>\n",
       "  </thead>\n",
       "  <tbody>\n",
       "    <tr>\n",
       "      <td>1</td>\n",
       "      <td>2022-02-17</td>\n",
       "      <td>12:47:36.906517</td>\n",
       "    </tr>\n",
       "    <tr>\n",
       "      <td>2</td>\n",
       "      <td>2022-02-17</td>\n",
       "      <td>12:47:36.933530</td>\n",
       "    </tr>\n",
       "    <tr>\n",
       "      <td>3</td>\n",
       "      <td>2022-02-17</td>\n",
       "      <td>12:47:36.963524</td>\n",
       "    </tr>\n",
       "    <tr>\n",
       "      <td>4</td>\n",
       "      <td>2022-02-17</td>\n",
       "      <td>12:47:36.993520</td>\n",
       "    </tr>\n",
       "    <tr>\n",
       "      <td>5</td>\n",
       "      <td>2022-02-17</td>\n",
       "      <td>12:47:36.996522</td>\n",
       "    </tr>\n",
       "  </tbody>\n",
       "</table style=\"display:inline\"></td><td style=\"vertical-align:top\"> <table style=\"display:inline\" border=\"1\" class=\"dataframe\">\n",
       "  <thead>\n",
       "    <tr style=\"text-align: right;\">\n",
       "      <th>Frame Number</th>\n",
       "      <th>Date</th>\n",
       "      <th>Timestamp</th>\n",
       "    </tr>\n",
       "  </thead>\n",
       "  <tbody>\n",
       "    <tr>\n",
       "      <td>1</td>\n",
       "      <td>2022-02-17</td>\n",
       "      <td>12:47:36.672518</td>\n",
       "    </tr>\n",
       "    <tr>\n",
       "      <td>2</td>\n",
       "      <td>2022-02-17</td>\n",
       "      <td>12:47:36.771523</td>\n",
       "    </tr>\n",
       "    <tr>\n",
       "      <td>3</td>\n",
       "      <td>2022-02-17</td>\n",
       "      <td>12:47:36.778519</td>\n",
       "    </tr>\n",
       "    <tr>\n",
       "      <td>4</td>\n",
       "      <td>2022-02-17</td>\n",
       "      <td>12:47:36.785522</td>\n",
       "    </tr>\n",
       "    <tr>\n",
       "      <td>5</td>\n",
       "      <td>2022-02-17</td>\n",
       "      <td>12:47:36.816532</td>\n",
       "    </tr>\n",
       "  </tbody>\n",
       "</table style=\"display:inline\"></td></tr></table style=\"display:inline\">"
      ]
     },
     "metadata": {},
     "output_type": "display_data"
    }
   ],
   "source": [
    "df_display_beside([df_t1.head(), df_t2.head()])"
   ]
  },
  {
   "cell_type": "code",
   "execution_count": 5,
   "metadata": {},
   "outputs": [
    {
     "data": {
      "text/html": [
       "<table style=\"display:inline\"><tr><td style=\"vertical-align:top\"> <table style=\"display:inline\" border=\"1\" class=\"dataframe\">\n",
       "  <thead>\n",
       "    <tr style=\"text-align: right;\">\n",
       "      <th>Frame Number</th>\n",
       "      <th>Date</th>\n",
       "      <th>Timestamp</th>\n",
       "    </tr>\n",
       "  </thead>\n",
       "  <tbody>\n",
       "    <tr>\n",
       "      <td>182</td>\n",
       "      <td>2022-02-17</td>\n",
       "      <td>12:47:42.834635</td>\n",
       "    </tr>\n",
       "    <tr>\n",
       "      <td>183</td>\n",
       "      <td>2022-02-17</td>\n",
       "      <td>12:47:42.865633</td>\n",
       "    </tr>\n",
       "    <tr>\n",
       "      <td>184</td>\n",
       "      <td>2022-02-17</td>\n",
       "      <td>12:47:42.896638</td>\n",
       "    </tr>\n",
       "    <tr>\n",
       "      <td>185</td>\n",
       "      <td>2022-02-17</td>\n",
       "      <td>12:47:42.929654</td>\n",
       "    </tr>\n",
       "    <tr>\n",
       "      <td>186</td>\n",
       "      <td>2022-02-17</td>\n",
       "      <td>12:47:42.960634</td>\n",
       "    </tr>\n",
       "  </tbody>\n",
       "</table style=\"display:inline\"></td><td style=\"vertical-align:top\"> <table style=\"display:inline\" border=\"1\" class=\"dataframe\">\n",
       "  <thead>\n",
       "    <tr style=\"text-align: right;\">\n",
       "      <th>Frame Number</th>\n",
       "      <th>Date</th>\n",
       "      <th>Timestamp</th>\n",
       "    </tr>\n",
       "  </thead>\n",
       "  <tbody>\n",
       "    <tr>\n",
       "      <td>201</td>\n",
       "      <td>2022-02-17</td>\n",
       "      <td>12:47:43.360637</td>\n",
       "    </tr>\n",
       "    <tr>\n",
       "      <td>202</td>\n",
       "      <td>2022-02-17</td>\n",
       "      <td>12:47:43.387632</td>\n",
       "    </tr>\n",
       "    <tr>\n",
       "      <td>203</td>\n",
       "      <td>2022-02-17</td>\n",
       "      <td>12:47:43.419632</td>\n",
       "    </tr>\n",
       "    <tr>\n",
       "      <td>204</td>\n",
       "      <td>2022-02-17</td>\n",
       "      <td>12:47:43.483635</td>\n",
       "    </tr>\n",
       "    <tr>\n",
       "      <td>205</td>\n",
       "      <td>2022-02-17</td>\n",
       "      <td>12:47:43.516639</td>\n",
       "    </tr>\n",
       "  </tbody>\n",
       "</table style=\"display:inline\"></td></tr></table style=\"display:inline\">"
      ]
     },
     "metadata": {},
     "output_type": "display_data"
    }
   ],
   "source": [
    "df_display_beside([df_t1.tail(), df_t2.tail()])"
   ]
  },
  {
   "cell_type": "code",
   "execution_count": 6,
   "metadata": {},
   "outputs": [],
   "source": [
    "def df_set_time(df, time_col='Timestamp', time_format='%H:%M:%S.%f'):\n",
    "    df[time_col] = pd.to_datetime(df[time_col], format=time_format).dt.time\n",
    "\n",
    "def df_set_date(df, date_col='Date', time_format='%Y-%m-%d'):\n",
    "    df[date_col] = pd.to_datetime(df[date_col], format=time_format).dt.date\n",
    "\n",
    "time_col ='Timestamp'\n",
    "date_col='Date'\n",
    "\n",
    "\n",
    "def df_set_datetime(df, dt_cols=['Timestamp', 'Date'], time_format='%Y-%m-%d %H:%M:%S.%f'):\n",
    "    # df[]\n",
    "    df['datetime'] = pd.to_datetime(df['Date'] + ' ' + df['Timestamp'], format=time_format)\n",
    "    # pd.to_datetime(df['datetime'], format=time_format)\n",
    "    #col for col in df[dt_cols] df[dt_cols]\n",
    "    # return df[dt_cols]\n",
    "\n",
    "\n",
    "df_set_datetime(df_t1)\n",
    "df_set_datetime(df_t2)"
   ]
  },
  {
   "cell_type": "code",
   "execution_count": 7,
   "metadata": {},
   "outputs": [],
   "source": [
    "def time_diff_next_frame(df, dt_col='datetime', format='seconds'):\n",
    "    if format not in ['seconds', 'microseconds']:\n",
    "        raise ValueError\n",
    "    diff_frame = abs(df[dt_col][:-1].reset_index(drop=True) - df[dt_col][1:].reset_index(drop=True))\n",
    "    return diff_frame.dt.total_seconds() if format == 'seconds' else diff_frame.dt.microseconds"
   ]
  },
  {
   "cell_type": "code",
   "execution_count": 8,
   "metadata": {},
   "outputs": [
    {
     "data": {
      "text/html": [
       "<div>\n",
       "<style scoped>\n",
       "    .dataframe tbody tr th:only-of-type {\n",
       "        vertical-align: middle;\n",
       "    }\n",
       "\n",
       "    .dataframe tbody tr th {\n",
       "        vertical-align: top;\n",
       "    }\n",
       "\n",
       "    .dataframe thead th {\n",
       "        text-align: right;\n",
       "    }\n",
       "</style>\n",
       "<table border=\"1\" class=\"dataframe\">\n",
       "  <thead>\n",
       "    <tr style=\"text-align: right;\">\n",
       "      <th></th>\n",
       "      <th>video_1</th>\n",
       "      <th>video_2</th>\n",
       "    </tr>\n",
       "  </thead>\n",
       "  <tbody>\n",
       "    <tr>\n",
       "      <th>0</th>\n",
       "      <td>0.027013</td>\n",
       "      <td>0.099005</td>\n",
       "    </tr>\n",
       "    <tr>\n",
       "      <th>1</th>\n",
       "      <td>0.029994</td>\n",
       "      <td>0.006996</td>\n",
       "    </tr>\n",
       "    <tr>\n",
       "      <th>2</th>\n",
       "      <td>0.029996</td>\n",
       "      <td>0.007003</td>\n",
       "    </tr>\n",
       "    <tr>\n",
       "      <th>3</th>\n",
       "      <td>0.003002</td>\n",
       "      <td>0.031010</td>\n",
       "    </tr>\n",
       "    <tr>\n",
       "      <th>4</th>\n",
       "      <td>0.027998</td>\n",
       "      <td>0.027985</td>\n",
       "    </tr>\n",
       "    <tr>\n",
       "      <th>...</th>\n",
       "      <td>...</td>\n",
       "      <td>...</td>\n",
       "    </tr>\n",
       "    <tr>\n",
       "      <th>199</th>\n",
       "      <td>NaN</td>\n",
       "      <td>0.003999</td>\n",
       "    </tr>\n",
       "    <tr>\n",
       "      <th>200</th>\n",
       "      <td>NaN</td>\n",
       "      <td>0.026995</td>\n",
       "    </tr>\n",
       "    <tr>\n",
       "      <th>201</th>\n",
       "      <td>NaN</td>\n",
       "      <td>0.032000</td>\n",
       "    </tr>\n",
       "    <tr>\n",
       "      <th>202</th>\n",
       "      <td>NaN</td>\n",
       "      <td>0.064003</td>\n",
       "    </tr>\n",
       "    <tr>\n",
       "      <th>203</th>\n",
       "      <td>NaN</td>\n",
       "      <td>0.033004</td>\n",
       "    </tr>\n",
       "  </tbody>\n",
       "</table>\n",
       "<p>204 rows × 2 columns</p>\n",
       "</div>"
      ],
      "text/plain": [
       "      video_1   video_2\n",
       "0    0.027013  0.099005\n",
       "1    0.029994  0.006996\n",
       "2    0.029996  0.007003\n",
       "3    0.003002  0.031010\n",
       "4    0.027998  0.027985\n",
       "..        ...       ...\n",
       "199       NaN  0.003999\n",
       "200       NaN  0.026995\n",
       "201       NaN  0.032000\n",
       "202       NaN  0.064003\n",
       "203       NaN  0.033004\n",
       "\n",
       "[204 rows x 2 columns]"
      ]
     },
     "metadata": {},
     "output_type": "display_data"
    }
   ],
   "source": [
    "videos_diff = pd.DataFrame([\n",
    "    time_diff_next_frame(df_t1),\n",
    "    time_diff_next_frame(df_t2)\n",
    "] , index = ['video_1', 'video_2']).transpose()\n",
    "\n",
    "display(videos_diff)"
   ]
  },
  {
   "cell_type": "code",
   "execution_count": 9,
   "metadata": {},
   "outputs": [
    {
     "data": {
      "text/html": [
       "<div>\n",
       "<style scoped>\n",
       "    .dataframe tbody tr th:only-of-type {\n",
       "        vertical-align: middle;\n",
       "    }\n",
       "\n",
       "    .dataframe tbody tr th {\n",
       "        vertical-align: top;\n",
       "    }\n",
       "\n",
       "    .dataframe thead th {\n",
       "        text-align: right;\n",
       "    }\n",
       "</style>\n",
       "<table border=\"1\" class=\"dataframe\">\n",
       "  <thead>\n",
       "    <tr style=\"text-align: right;\">\n",
       "      <th></th>\n",
       "      <th>video_1</th>\n",
       "      <th>video_2</th>\n",
       "    </tr>\n",
       "  </thead>\n",
       "  <tbody>\n",
       "    <tr>\n",
       "      <th>count</th>\n",
       "      <td>185.000000</td>\n",
       "      <td>204.000000</td>\n",
       "    </tr>\n",
       "    <tr>\n",
       "      <th>mean</th>\n",
       "      <td>0.032725</td>\n",
       "      <td>0.033550</td>\n",
       "    </tr>\n",
       "    <tr>\n",
       "      <th>std</th>\n",
       "      <td>0.007816</td>\n",
       "      <td>0.012001</td>\n",
       "    </tr>\n",
       "    <tr>\n",
       "      <th>min</th>\n",
       "      <td>0.003000</td>\n",
       "      <td>0.002990</td>\n",
       "    </tr>\n",
       "    <tr>\n",
       "      <th>25%</th>\n",
       "      <td>0.030988</td>\n",
       "      <td>0.030996</td>\n",
       "    </tr>\n",
       "    <tr>\n",
       "      <th>50%</th>\n",
       "      <td>0.031997</td>\n",
       "      <td>0.032000</td>\n",
       "    </tr>\n",
       "    <tr>\n",
       "      <th>75%</th>\n",
       "      <td>0.032997</td>\n",
       "      <td>0.033998</td>\n",
       "    </tr>\n",
       "    <tr>\n",
       "      <th>max</th>\n",
       "      <td>0.073994</td>\n",
       "      <td>0.099005</td>\n",
       "    </tr>\n",
       "  </tbody>\n",
       "</table>\n",
       "</div>"
      ],
      "text/plain": [
       "          video_1     video_2\n",
       "count  185.000000  204.000000\n",
       "mean     0.032725    0.033550\n",
       "std      0.007816    0.012001\n",
       "min      0.003000    0.002990\n",
       "25%      0.030988    0.030996\n",
       "50%      0.031997    0.032000\n",
       "75%      0.032997    0.033998\n",
       "max      0.073994    0.099005"
      ]
     },
     "execution_count": 9,
     "metadata": {},
     "output_type": "execute_result"
    }
   ],
   "source": [
    "videos_diff.describe()"
   ]
  },
  {
   "cell_type": "markdown",
   "metadata": {},
   "source": [
    "# find first frame between 2 video\n",
    "if\n",
    "- camera_1 start at 1 sec\n",
    "- camera_2 start at 1.5 sec\n",
    "\n",
    "`first_frame` between video is camera_2's \n",
    "\n",
    "\n",
    "<br>--------------------------------<br>\n",
    "\n",
    "because only two camera started then we can sync their frame\n"
   ]
  },
  {
   "cell_type": "code",
   "execution_count": 10,
   "metadata": {},
   "outputs": [
    {
     "data": {
      "text/plain": [
       "Timestamp('2022-02-17 12:47:36.906517')"
      ]
     },
     "execution_count": 10,
     "metadata": {},
     "output_type": "execute_result"
    }
   ],
   "source": [
    "def first_frame_between_videos(vid1_df, vid2_df, dt_col='datetime'):\n",
    "    '''get latest first frame between videos'''\n",
    "    vid1_dt = vid1_df[dt_col]\n",
    "    vid2_dt = vid2_df[dt_col]\n",
    "\n",
    "    vid1_first = vid1_dt.argmin()\n",
    "    vid2_first = vid2_dt.argmin()\n",
    "\n",
    "    return max(vid1_dt.iloc[vid1_first], vid2_dt.iloc[vid2_first]) \n",
    "\n",
    "        \n",
    "first_frame_dt = first_frame_between_videos(df_t1, df_t2)\n",
    "first_frame_dt"
   ]
  },
  {
   "cell_type": "markdown",
   "metadata": {},
   "source": [
    "# actual timestamp across video"
   ]
  },
  {
   "cell_type": "code",
   "execution_count": 11,
   "metadata": {},
   "outputs": [
    {
     "data": {
      "text/plain": [
       "0.04"
      ]
     },
     "execution_count": 11,
     "metadata": {},
     "output_type": "execute_result"
    }
   ],
   "source": [
    "FPS = 25\n",
    "1/FPS"
   ]
  },
  {
   "cell_type": "code",
   "execution_count": 12,
   "metadata": {},
   "outputs": [
    {
     "data": {
      "text/plain": [
       "(Timestamp('2022-02-17 12:47:36.906517'),\n",
       " Timestamp('2022-02-17 12:47:36.946517'))"
      ]
     },
     "execution_count": 12,
     "metadata": {},
     "output_type": "execute_result"
    }
   ],
   "source": [
    "def add_interval(dt: datetime.datetime, fps=FPS):\n",
    "    return dt + datetime.timedelta(seconds=1/FPS)\n",
    "\n",
    "def cum_sum_interval(dt, num, fps=FPS):\n",
    "    '''add the interval by fps since the first frame'''\n",
    "    return [dt := add_interval(dt) for t in range(num)]\n",
    "    \n",
    "first_frame_dt, add_interval(first_frame_dt)"
   ]
  },
  {
   "cell_type": "code",
   "execution_count": 13,
   "metadata": {},
   "outputs": [
    {
     "data": {
      "text/plain": [
       "0   2022-02-17 12:47:36.946517\n",
       "1   2022-02-17 12:47:36.986517\n",
       "2   2022-02-17 12:47:37.026517\n",
       "3   2022-02-17 12:47:37.066517\n",
       "4   2022-02-17 12:47:37.106517\n",
       "dtype: datetime64[ns]"
      ]
     },
     "execution_count": 13,
     "metadata": {},
     "output_type": "execute_result"
    }
   ],
   "source": [
    "'''test generate actual share timestamp between videos'''\n",
    "\n",
    "NUM = 5\n",
    "pd.Series(cum_sum_interval(first_frame_dt, NUM))"
   ]
  },
  {
   "cell_type": "code",
   "execution_count": 14,
   "metadata": {},
   "outputs": [
    {
     "data": {
      "text/plain": [
       "(186, 205)"
      ]
     },
     "execution_count": 14,
     "metadata": {},
     "output_type": "execute_result"
    }
   ],
   "source": [
    "len(df_t1), len(df_t2)"
   ]
  },
  {
   "cell_type": "code",
   "execution_count": 15,
   "metadata": {},
   "outputs": [
    {
     "data": {
      "text/plain": [
       "0     2022-02-17 12:47:36.946517\n",
       "1     2022-02-17 12:47:36.986517\n",
       "2     2022-02-17 12:47:37.026517\n",
       "3     2022-02-17 12:47:37.066517\n",
       "4     2022-02-17 12:47:37.106517\n",
       "                 ...            \n",
       "181   2022-02-17 12:47:44.186517\n",
       "182   2022-02-17 12:47:44.226517\n",
       "183   2022-02-17 12:47:44.266517\n",
       "184   2022-02-17 12:47:44.306517\n",
       "185   2022-02-17 12:47:44.346517\n",
       "Length: 186, dtype: datetime64[ns]"
      ]
     },
     "execution_count": 15,
     "metadata": {},
     "output_type": "execute_result"
    }
   ],
   "source": [
    "\n",
    "shared_video_len = min(len(df_t1), len(df_t1))   # shortest video len between videos\n",
    "shared_timeline = pd.Series(cum_sum_interval(first_frame_dt, shared_video_len))\n",
    "shared_timeline"
   ]
  },
  {
   "cell_type": "markdown",
   "metadata": {},
   "source": [
    "# find real index by Offset between frames"
   ]
  },
  {
   "cell_type": "code",
   "execution_count": 16,
   "metadata": {},
   "outputs": [
    {
     "name": "stdout",
     "output_type": "stream",
     "text": [
      "1/FPS:  0.04\n",
      "OFFSET:  0.039\n"
     ]
    }
   ],
   "source": [
    "OFFSET = 1/FPS - 0.001\n",
    "\n",
    "print(f\"1/FPS:  {1/FPS}\")\n",
    "print(f\"OFFSET:  {OFFSET}\")"
   ]
  },
  {
   "cell_type": "code",
   "execution_count": 17,
   "metadata": {},
   "outputs": [
    {
     "data": {
      "text/html": [
       "<div>\n",
       "<style scoped>\n",
       "    .dataframe tbody tr th:only-of-type {\n",
       "        vertical-align: middle;\n",
       "    }\n",
       "\n",
       "    .dataframe tbody tr th {\n",
       "        vertical-align: top;\n",
       "    }\n",
       "\n",
       "    .dataframe thead th {\n",
       "        text-align: right;\n",
       "    }\n",
       "</style>\n",
       "<table border=\"1\" class=\"dataframe\">\n",
       "  <thead>\n",
       "    <tr style=\"text-align: right;\">\n",
       "      <th></th>\n",
       "      <th>timeline</th>\n",
       "      <th>vid1_datetime</th>\n",
       "      <th>vid2_datetime</th>\n",
       "    </tr>\n",
       "  </thead>\n",
       "  <tbody>\n",
       "    <tr>\n",
       "      <th>0</th>\n",
       "      <td>2022-02-17 12:47:36.946517</td>\n",
       "      <td>2022-02-17 12:47:36.906517</td>\n",
       "      <td>2022-02-17 12:47:36.672518</td>\n",
       "    </tr>\n",
       "    <tr>\n",
       "      <th>1</th>\n",
       "      <td>2022-02-17 12:47:36.986517</td>\n",
       "      <td>2022-02-17 12:47:36.933530</td>\n",
       "      <td>2022-02-17 12:47:36.771523</td>\n",
       "    </tr>\n",
       "    <tr>\n",
       "      <th>2</th>\n",
       "      <td>2022-02-17 12:47:37.026517</td>\n",
       "      <td>2022-02-17 12:47:36.963524</td>\n",
       "      <td>2022-02-17 12:47:36.778519</td>\n",
       "    </tr>\n",
       "    <tr>\n",
       "      <th>3</th>\n",
       "      <td>2022-02-17 12:47:37.066517</td>\n",
       "      <td>2022-02-17 12:47:36.993520</td>\n",
       "      <td>2022-02-17 12:47:36.785522</td>\n",
       "    </tr>\n",
       "    <tr>\n",
       "      <th>4</th>\n",
       "      <td>2022-02-17 12:47:37.106517</td>\n",
       "      <td>2022-02-17 12:47:36.996522</td>\n",
       "      <td>2022-02-17 12:47:36.816532</td>\n",
       "    </tr>\n",
       "    <tr>\n",
       "      <th>...</th>\n",
       "      <td>...</td>\n",
       "      <td>...</td>\n",
       "      <td>...</td>\n",
       "    </tr>\n",
       "    <tr>\n",
       "      <th>200</th>\n",
       "      <td>NaT</td>\n",
       "      <td>NaT</td>\n",
       "      <td>2022-02-17 12:47:43.360637</td>\n",
       "    </tr>\n",
       "    <tr>\n",
       "      <th>201</th>\n",
       "      <td>NaT</td>\n",
       "      <td>NaT</td>\n",
       "      <td>2022-02-17 12:47:43.387632</td>\n",
       "    </tr>\n",
       "    <tr>\n",
       "      <th>202</th>\n",
       "      <td>NaT</td>\n",
       "      <td>NaT</td>\n",
       "      <td>2022-02-17 12:47:43.419632</td>\n",
       "    </tr>\n",
       "    <tr>\n",
       "      <th>203</th>\n",
       "      <td>NaT</td>\n",
       "      <td>NaT</td>\n",
       "      <td>2022-02-17 12:47:43.483635</td>\n",
       "    </tr>\n",
       "    <tr>\n",
       "      <th>204</th>\n",
       "      <td>NaT</td>\n",
       "      <td>NaT</td>\n",
       "      <td>2022-02-17 12:47:43.516639</td>\n",
       "    </tr>\n",
       "  </tbody>\n",
       "</table>\n",
       "<p>205 rows × 3 columns</p>\n",
       "</div>"
      ],
      "text/plain": [
       "                      timeline              vid1_datetime  \\\n",
       "0   2022-02-17 12:47:36.946517 2022-02-17 12:47:36.906517   \n",
       "1   2022-02-17 12:47:36.986517 2022-02-17 12:47:36.933530   \n",
       "2   2022-02-17 12:47:37.026517 2022-02-17 12:47:36.963524   \n",
       "3   2022-02-17 12:47:37.066517 2022-02-17 12:47:36.993520   \n",
       "4   2022-02-17 12:47:37.106517 2022-02-17 12:47:36.996522   \n",
       "..                         ...                        ...   \n",
       "200                        NaT                        NaT   \n",
       "201                        NaT                        NaT   \n",
       "202                        NaT                        NaT   \n",
       "203                        NaT                        NaT   \n",
       "204                        NaT                        NaT   \n",
       "\n",
       "                 vid2_datetime  \n",
       "0   2022-02-17 12:47:36.672518  \n",
       "1   2022-02-17 12:47:36.771523  \n",
       "2   2022-02-17 12:47:36.778519  \n",
       "3   2022-02-17 12:47:36.785522  \n",
       "4   2022-02-17 12:47:36.816532  \n",
       "..                         ...  \n",
       "200 2022-02-17 12:47:43.360637  \n",
       "201 2022-02-17 12:47:43.387632  \n",
       "202 2022-02-17 12:47:43.419632  \n",
       "203 2022-02-17 12:47:43.483635  \n",
       "204 2022-02-17 12:47:43.516639  \n",
       "\n",
       "[205 rows x 3 columns]"
      ]
     },
     "execution_count": 17,
     "metadata": {},
     "output_type": "execute_result"
    }
   ],
   "source": [
    "preview_dt = pd.DataFrame([shared_timeline, df_t1['datetime'], df_t2['datetime']]).transpose()\n",
    "preview_dt.columns = ['timeline', 'vid1_datetime', 'vid2_datetime']\n",
    "preview_dt\n",
    "#, columns=['timeline', 'vid1_datetime', 'vid2_datetime'])"
   ]
  }
 ],
 "metadata": {
  "interpreter": {
   "hash": "f958ded69c140b726e5738806c4a1486669a4cc19ba396882dbf1aafa176391f"
  },
  "kernelspec": {
   "display_name": "Python 3.8.5 ('yolov5')",
   "language": "python",
   "name": "python3"
  },
  "language_info": {
   "codemirror_mode": {
    "name": "ipython",
    "version": 3
   },
   "file_extension": ".py",
   "mimetype": "text/x-python",
   "name": "python",
   "nbconvert_exporter": "python",
   "pygments_lexer": "ipython3",
   "version": "3.8.5"
  },
  "orig_nbformat": 4
 },
 "nbformat": 4,
 "nbformat_minor": 2
}
